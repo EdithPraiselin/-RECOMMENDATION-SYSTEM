{
  "cells": [
    {
      "cell_type": "markdown",
      "metadata": {
        "id": "view-in-github",
        "colab_type": "text"
      },
      "source": [
        "<a href=\"https://colab.research.google.com/github/EdithPraiselin/-RECOMMENDATION-SYSTEM/blob/main/Task4.ipynb\" target=\"_parent\"><img src=\"https://colab.research.google.com/assets/colab-badge.svg\" alt=\"Open In Colab\"/></a>"
      ]
    },
    {
      "cell_type": "code",
      "execution_count": null,
      "metadata": {
        "colab": {
          "base_uri": "https://localhost:8080/"
        },
        "id": "esRaUwBbUW56",
        "outputId": "eb26b040-c999-4cd6-a4dc-048f66435a02"
      },
      "outputs": [
        {
          "name": "stdout",
          "output_type": "stream",
          "text": [
            "Collecting scikit-surprise\n",
            "  Downloading scikit_surprise-1.1.4.tar.gz (154 kB)\n",
            "\u001b[?25l     \u001b[90m━━━━━━━━━━━━━━━━━━━━━━━━━━━━━━━━━━━━━━━━\u001b[0m \u001b[32m0.0/154.4 kB\u001b[0m \u001b[31m?\u001b[0m eta \u001b[36m-:--:--\u001b[0m\r\u001b[2K     \u001b[90m━━━━━━━━━━━━━━━━━━━━━━━━━━━━━━━━━━━━━━━━\u001b[0m \u001b[32m154.4/154.4 kB\u001b[0m \u001b[31m8.4 MB/s\u001b[0m eta \u001b[36m0:00:00\u001b[0m\n",
            "\u001b[?25h  Installing build dependencies ... \u001b[?25l\u001b[?25hdone\n",
            "  Getting requirements to build wheel ... \u001b[?25l\u001b[?25hdone\n",
            "  Preparing metadata (pyproject.toml) ... \u001b[?25l\u001b[?25hdone\n",
            "Requirement already satisfied: joblib>=1.2.0 in /usr/local/lib/python3.11/dist-packages (from scikit-surprise) (1.4.2)\n",
            "Requirement already satisfied: numpy>=1.19.5 in /usr/local/lib/python3.11/dist-packages (from scikit-surprise) (1.26.4)\n",
            "Requirement already satisfied: scipy>=1.6.0 in /usr/local/lib/python3.11/dist-packages (from scikit-surprise) (1.13.1)\n",
            "Building wheels for collected packages: scikit-surprise\n",
            "  Building wheel for scikit-surprise (pyproject.toml) ... \u001b[?25l\u001b[?25hdone\n",
            "  Created wheel for scikit-surprise: filename=scikit_surprise-1.1.4-cp311-cp311-linux_x86_64.whl size=2505180 sha256=1a5085362971192ac8665ba71232957ef5b081b341cea88a54f5a74904f869fa\n",
            "  Stored in directory: /root/.cache/pip/wheels/2a/8f/6e/7e2899163e2d85d8266daab4aa1cdabec7a6c56f83c015b5af\n",
            "Successfully built scikit-surprise\n",
            "Installing collected packages: scikit-surprise\n",
            "Successfully installed scikit-surprise-1.1.4\n"
          ]
        }
      ],
      "source": [
        "!pip install scikit-surprise"
      ]
    },
    {
      "cell_type": "code",
      "execution_count": null,
      "metadata": {
        "colab": {
          "background_save": true
        },
        "id": "P1UWwrbhwaJh",
        "outputId": "76bf4064-4401-41f1-c910-5f603ca32321"
      },
      "outputs": [
        {
          "name": "stdout",
          "output_type": "stream",
          "text": [
            "\n",
            "Evaluation Metrics:\n",
            "RMSE: 0.7799\n",
            "RMSE: 0.779920347981249\n",
            "MAE:  0.5923\n",
            "MAE: 0.5922932791166956\n",
            "\n",
            "🎬 Top 5 Recommendations for User 125520:\n",
            "Independence Day (a.k.a. ID4) (1996) (Predicted Rating: 4.43)\n",
            "Raiders of the Lost Ark (Indiana Jones and the Raiders of the Lost Ark) (1981) (Predicted Rating: 4.39)\n",
            "Psycho (1960) (Predicted Rating: 4.37)\n",
            "Terminator, The (1984) (Predicted Rating: 4.34)\n",
            "Singin' in the Rain (1952) (Predicted Rating: 4.18)\n",
            "\n",
            "🎬 Top 5 Recommendations for User 49647:\n",
            "Kronos (a.k.a. Captain Kronos: Vampire Hunter) (1973) (Predicted Rating: 3.44)\n",
            "Children of the Damned (1963) (Predicted Rating: 3.12)\n",
            "Abyss, The (1989) (Predicted Rating: 2.96)\n",
            "Trippin' (1999) (Predicted Rating: 2.42)\n",
            "\n",
            "🎬 Top 5 Recommendations for User 57346:\n",
            "One Flew Over the Cuckoo's Nest (1975) (Predicted Rating: 5.00)\n",
            "Pulp Fiction (1994) (Predicted Rating: 5.00)\n",
            "Crying Game, The (1992) (Predicted Rating: 4.84)\n",
            "Hoop Dreams (1994) (Predicted Rating: 4.57)\n",
            "Beyond Silence (Jenseits der Stille) (1996) (Predicted Rating: 4.52)\n",
            "\n",
            "🎬 Top 5 Recommendations for User 133414:\n",
            "Gone in 60 Seconds (2000) (Predicted Rating: 4.88)\n",
            "Resident Evil: Apocalypse (2004) (Predicted Rating: 4.81)\n",
            "Day After Tomorrow, The (2004) (Predicted Rating: 4.73)\n",
            "Memento (2000) (Predicted Rating: 4.73)\n",
            "Aeon Flux (2005) (Predicted Rating: 4.62)\n",
            "\n",
            "🎬 Top 5 Recommendations for User 89013:\n",
            "Farmer's Daughter, The (1947) (Predicted Rating: 3.79)\n",
            "Next Karate Kid, The (1994) (Predicted Rating: 2.46)\n"
          ]
        }
      ],
      "source": [
        "# Import Required Libraries\n",
        "import numpy as np\n",
        "import pandas as pd\n",
        "from surprise import Dataset, Reader, SVD\n",
        "from surprise.model_selection import train_test_split\n",
        "from surprise.accuracy import rmse, mae\n",
        "\n",
        "# Update Dataset Paths\n",
        "ratings_path = \"/ratings.csv\"\n",
        "movies_path = \"/movies.csv\"\n",
        "\n",
        "# Load the MovieLens 20M Dataset (CSV Format)\n",
        "ratings = pd.read_csv(ratings_path, usecols=[\"userId\", \"movieId\", \"rating\"])\n",
        "movies = pd.read_csv(movies_path, usecols=[\"movieId\", \"title\"])\n",
        "movies_dict = dict(zip(movies[\"movieId\"], movies[\"title\"]))\n",
        "\n",
        "# Prepare Data for Surprise\n",
        "reader = Reader(line_format=\"user item rating\", sep=\",\", rating_scale=(0.5, 5.0))\n",
        "dataset = Dataset.load_from_df(ratings[[\"userId\", \"movieId\", \"rating\"]], reader)\n",
        "\n",
        "# Count ratings per movie\n",
        "movie_counts = ratings[\"movieId\"].value_counts()\n",
        "\n",
        "# Keep only movies with at least 10 ratings\n",
        "popular_movies = movie_counts[movie_counts >= 10].index\n",
        "filtered_ratings = ratings[ratings[\"movieId\"].isin(popular_movies)]\n",
        "\n",
        "# Split Data into Training and Testing Sets\n",
        "trainset, testset = train_test_split(dataset, test_size=0.1)\n",
        "\n",
        "# Train the SVD Model\n",
        "algo = SVD(n_factors=150, lr_all=0.007, reg_all=0.02)\n",
        "algo.fit(trainset)\n",
        "\n",
        "# Evaluate Model Performance\n",
        "predictions = algo.test(testset)\n",
        "print(\"\\nEvaluation Metrics:\")\n",
        "print(\"RMSE:\", rmse(predictions))\n",
        "print(\"MAE:\", mae(predictions))\n",
        "\n",
        "# Generate Top-N Recommendations for Each User\n",
        "def get_top_n_recommendations(predictions, n=5):\n",
        "    top_n = {}\n",
        "    for uid, iid, _, est, _ in predictions:\n",
        "        if uid not in top_n:\n",
        "            top_n[uid] = []\n",
        "        top_n[uid].append((iid, est))\n",
        "\n",
        "    for uid, user_ratings in top_n.items():\n",
        "        user_ratings.sort(key=lambda x: x[1], reverse=True)\n",
        "        top_n[uid] = user_ratings[:n]  # Keep Top-N movies\n",
        "\n",
        "    return top_n\n",
        "\n",
        "top_recommendations = get_top_n_recommendations(predictions)\n",
        "\n",
        "# Convert Movie IDs to Titles and Display Sample Recommendations\n",
        "def display_recommendations(user_id, top_recommendations):\n",
        "    if user_id not in top_recommendations:\n",
        "        print(f\"No recommendations found for User {user_id}\")\n",
        "        return\n",
        "\n",
        "    print(f\"\\n🎬 Top 5 Recommendations for User {user_id}:\")\n",
        "    for movie_id, score in top_recommendations[user_id]:\n",
        "        print(f\"{movies_dict.get(movie_id, 'Unknown Movie')} (Predicted Rating: {score:.2f})\")\n",
        "\n",
        "# Show recommendations for 5 random users\n",
        "import random\n",
        "random_users = random.sample(list(top_recommendations.keys()), 5)\n",
        "for user in random_users:\n",
        "    display_recommendations(user, top_recommendations)\n"
      ]
    }
  ],
  "metadata": {
    "colab": {
      "provenance": [],
      "authorship_tag": "ABX9TyMd3ROlC9PjwMfpDPy0RNCU",
      "include_colab_link": true
    },
    "kernelspec": {
      "display_name": "Python 3",
      "name": "python3"
    },
    "language_info": {
      "name": "python"
    }
  },
  "nbformat": 4,
  "nbformat_minor": 0
}